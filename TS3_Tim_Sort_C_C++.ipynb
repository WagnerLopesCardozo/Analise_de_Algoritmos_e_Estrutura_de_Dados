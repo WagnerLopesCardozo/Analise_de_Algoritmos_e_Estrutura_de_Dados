{
  "nbformat": 4,
  "nbformat_minor": 0,
  "metadata": {
    "colab": {
      "provenance": [],
      "authorship_tag": "ABX9TyMj1TFmCGxJATylLGHE7H3o",
      "include_colab_link": true
    },
    "kernelspec": {
      "name": "python3",
      "display_name": "Python 3"
    },
    "language_info": {
      "name": "python"
    }
  },
  "cells": [
    {
      "cell_type": "markdown",
      "metadata": {
        "id": "view-in-github",
        "colab_type": "text"
      },
      "source": [
        "<a href=\"https://colab.research.google.com/github/WagnerLopesCardozo/Analise_de_Algoritmos_e_Estrutura_de_Dados/blob/main/Tim_Sort_C_C%2B%2B.ipynb\" target=\"_parent\"><img src=\"https://colab.research.google.com/assets/colab-badge.svg\" alt=\"Open In Colab\"/></a>"
      ]
    },
    {
      "cell_type": "code",
      "source": [
        "%%writefile timsort.c\n",
        "// (Cole o código C/C++ aqui)\n",
        "#include <stdio.h>\n",
        "#include <stdlib.h>\n",
        "#include <time.h>\n",
        "#include <sys/resource.h>\n",
        "\n",
        "#define RUN 32\n",
        "\n",
        "// Função para medir o uso de memória (em KB)\n",
        "long getMemoryUsage() {\n",
        "    struct rusage usage;\n",
        "    getrusage(RUSAGE_SELF, &usage);\n",
        "    return usage.ru_maxrss;  // Retorna o uso de memória em kilobytes\n",
        "}\n",
        "\n",
        "// Função Insertion Sort\n",
        "void insertionSort(int arr[], int left, int right) {\n",
        "    for (int i = left + 1; i <= right; i++) {\n",
        "        int temp = arr[i];\n",
        "        int j = i - 1;\n",
        "        while (j >= left && arr[j] > temp) {\n",
        "            arr[j + 1] = arr[j];\n",
        "            j--;\n",
        "        }\n",
        "        arr[j + 1] = temp;\n",
        "    }\n",
        "}\n",
        "\n",
        "// Função para mesclar dois subarrays\n",
        "void merge(int arr[], int l, int m, int r) {\n",
        "    int len1 = m - l + 1, len2 = r - m;\n",
        "    int left[len1], right[len2];\n",
        "\n",
        "    for (int i = 0; i < len1; i++)\n",
        "        left[i] = arr[l + i];\n",
        "    for (int i = 0; i < len2; i++)\n",
        "        right[i] = arr[m + 1 + i];\n",
        "\n",
        "    int i = 0, j = 0, k = l;\n",
        "    while (i < len1 && j < len2) {\n",
        "        if (left[i] <= right[j]) {\n",
        "            arr[k] = left[i];\n",
        "            i++;\n",
        "        } else {\n",
        "            arr[k] = right[j];\n",
        "            j++;\n",
        "        }\n",
        "        k++;\n",
        "    }\n",
        "\n",
        "    while (i < len1) {\n",
        "        arr[k] = left[i];\n",
        "        i++;\n",
        "        k++;\n",
        "    }\n",
        "\n",
        "    while (j < len2) {\n",
        "        arr[k] = right[j];\n",
        "        j++;\n",
        "        k++;\n",
        "    }\n",
        "}\n",
        "\n",
        "// Função Tim Sort\n",
        "void timSort(int arr[], int n) {\n",
        "    for (int i = 0; i < n; i += RUN)\n",
        "        insertionSort(arr, i, (i + RUN - 1) < (n - 1) ? (i + RUN - 1) : (n - 1));\n",
        "\n",
        "    for (int size = RUN; size < n; size = 2 * size) {\n",
        "        for (int left = 0; left < n; left += 2 * size) {\n",
        "            int mid = left + size - 1;\n",
        "            int right = (left + 2 * size - 1) < (n - 1) ? (left + 2 * size - 1) : (n - 1);\n",
        "\n",
        "            if (mid < right)\n",
        "                merge(arr, left, mid, right);\n",
        "        }\n",
        "    }\n",
        "}\n",
        "\n",
        "int main() {\n",
        "    int n = 1000000;  // Definindo tamanho do vetor\n",
        "    int *arr = (int *)malloc(n * sizeof(int));\n",
        "    int *arr_copy = (int *)malloc(n * sizeof(int));\n",
        "\n",
        "    // Gerar vetor aleatório\n",
        "    srand(time(0));\n",
        "    for (int i = 0; i < n; i++) {\n",
        "        arr[i] = rand() % 1000000;\n",
        "        arr_copy[i] = arr[i];  // Copiando para manter o vetor desordenado original\n",
        "    }\n",
        "\n",
        "    // Exibir os 10 primeiros e 10 últimos elementos do vetor desordenado\n",
        "    printf(\"Primeiros 10 elementos (desordenado): \");\n",
        "    for (int i = 0; i < 10; i++) {\n",
        "        printf(\"%d \", arr[i]);\n",
        "    }\n",
        "    printf(\"\\nÚltimos 10 elementos (desordenado): \");\n",
        "    for (int i = n - 10; i < n; i++) {\n",
        "        printf(\"%d \", arr[i]);\n",
        "    }\n",
        "\n",
        "    // Medir o tempo de ordenação\n",
        "    clock_t start_time = clock();\n",
        "\n",
        "    // Ordenar o vetor usando Tim Sort\n",
        "    timSort(arr, n);\n",
        "\n",
        "    clock_t end_time = clock();\n",
        "    double time_spent = (double)(end_time - start_time) / CLOCKS_PER_SEC;\n",
        "\n",
        "    // Exibir os 10 primeiros e 10 últimos elementos do vetor ordenado\n",
        "    printf(\"\\nPrimeiros 10 elementos (ordenado): \");\n",
        "    for (int i = 0; i < 10; i++) {\n",
        "        printf(\"%d \", arr[i]);\n",
        "    }\n",
        "    printf(\"\\nÚltimos 10 elementos (ordenado): \");\n",
        "    for (int i = n - 10; i < n; i++) {\n",
        "        printf(\"%d \", arr[i]);\n",
        "    }\n",
        "\n",
        "    // Medir uso de memória\n",
        "    long memory_used = getMemoryUsage();\n",
        "\n",
        "    // Exibir tempo gasto e uso de memória\n",
        "    printf(\"\\nTempo gasto na ordenação: %.6f segundos\\n\", time_spent);\n",
        "    printf(\"Memória usada: %ld KB\\n\", memory_used);\n",
        "\n",
        "    // Liberação de memória\n",
        "    free(arr);\n",
        "    free(arr_copy);\n",
        "\n",
        "    return 0;\n",
        "}\n"
      ],
      "metadata": {
        "colab": {
          "base_uri": "https://localhost:8080/"
        },
        "id": "5-6pL3_P7z3-",
        "outputId": "d9d87200-425d-4746-b9af-b27f8b42940a"
      },
      "execution_count": null,
      "outputs": [
        {
          "output_type": "stream",
          "name": "stdout",
          "text": [
            "Overwriting timsort.c\n"
          ]
        }
      ]
    },
    {
      "cell_type": "code",
      "source": [
        "!gcc timsort.c -o timsort\n"
      ],
      "metadata": {
        "id": "DalfZkHU77Mc"
      },
      "execution_count": null,
      "outputs": []
    },
    {
      "cell_type": "code",
      "source": [
        "!./timsort\n"
      ],
      "metadata": {
        "colab": {
          "base_uri": "https://localhost:8080/"
        },
        "id": "ayv7PPrd8DzS",
        "outputId": "df907f96-d23c-4ab4-d661-08d9918c9f4c"
      },
      "execution_count": null,
      "outputs": [
        {
          "output_type": "stream",
          "name": "stdout",
          "text": [
            "Primeiros 10 elementos (desordenado): 283392 413300 985044 105616 964733 308264 52316 378334 838224 612598 \n",
            "Últimos 10 elementos (desordenado): 409334 936689 411809 945227 30988 126053 662326 802978 573513 758432 \n",
            "Primeiros 10 elementos (ordenado): 1 1 2 3 3 4 5 5 7 7 \n",
            "Últimos 10 elementos (ordenado): 999986 999987 999988 999988 999992 999993 999995 999996 999997 999997 \n",
            "Tempo gasto na ordenação: 0.232078 segundos\n",
            "Memória usada: 99252 KB\n"
          ]
        }
      ]
    }
  ]
}
